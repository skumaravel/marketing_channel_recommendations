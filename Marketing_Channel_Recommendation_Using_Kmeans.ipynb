{
 "cells": [
  {
   "cell_type": "markdown",
   "metadata": {},
   "source": [
    "Import the necessary Python libraries:"
   ]
  },
  {
   "cell_type": "code",
   "execution_count": 516,
   "metadata": {},
   "outputs": [],
   "source": [
    "import warnings\n",
    "warnings.filterwarnings('ignore')\n",
    "warnings.filterwarnings('ignore', category=DeprecationWarning)\n",
    "\n",
    "import pandas as pd\n",
    "import numpy as np\n",
    "import seaborn as sns\n",
    "from matplotlib import pyplot as plt\n",
    "from sklearn.cluster import KMeans\n",
    "from sklearn.preprocessing import LabelEncoder\n",
    "from sklearn.preprocessing import MinMaxScaler\n",
    "\n",
    "from sklearn.metrics import silhouette_score\n",
    "\n",
    "%matplotlib inline"
   ]
  },
  {
   "cell_type": "markdown",
   "metadata": {},
   "source": [
    "Read the dataset into a pandas DataFrame:"
   ]
  },
  {
   "cell_type": "code",
   "execution_count": 517,
   "metadata": {},
   "outputs": [],
   "source": [
    "df = pd.read_excel('Data Scientist Assignment - Senior Analyst v1.0.xlsx', sheet_name='Customer Data', skiprows=1)"
   ]
  },
  {
   "cell_type": "markdown",
   "metadata": {},
   "source": [
    "The number of rows and columns in the DataFrame:"
   ]
  },
  {
   "cell_type": "code",
   "execution_count": 518,
   "metadata": {},
   "outputs": [
    {
     "data": {
      "text/plain": [
       "(84080, 14)"
      ]
     },
     "execution_count": 518,
     "metadata": {},
     "output_type": "execute_result"
    }
   ],
   "source": [
    "df.shape"
   ]
  },
  {
   "cell_type": "markdown",
   "metadata": {},
   "source": [
    "# Data Preprocessing"
   ]
  },
  {
   "cell_type": "markdown",
   "metadata": {},
   "source": [
    "The column names in the dataset are too long. Replace them with more compact column names. The following mapping is used:"
   ]
  },
  {
   "cell_type": "code",
   "execution_count": 519,
   "metadata": {},
   "outputs": [],
   "source": [
    "df.columns = ['ID', 'Title', 'SpecCode', 'SpecDesc', 'State', 'CallAttempts', 'CallsSuccessful', 'EmailsSent', 'EmailsOpened', \n",
    "             'Faxes', 'Brand_1', 'Brand_2', 'TotalBranded', 'TotalMarket']"
   ]
  },
  {
   "cell_type": "markdown",
   "metadata": {},
   "source": [
    "Take a peek at the dataset:"
   ]
  },
  {
   "cell_type": "code",
   "execution_count": 520,
   "metadata": {},
   "outputs": [
    {
     "data": {
      "text/html": [
       "<div>\n",
       "<style scoped>\n",
       "    .dataframe tbody tr th:only-of-type {\n",
       "        vertical-align: middle;\n",
       "    }\n",
       "\n",
       "    .dataframe tbody tr th {\n",
       "        vertical-align: top;\n",
       "    }\n",
       "\n",
       "    .dataframe thead th {\n",
       "        text-align: right;\n",
       "    }\n",
       "</style>\n",
       "<table border=\"1\" class=\"dataframe\">\n",
       "  <thead>\n",
       "    <tr style=\"text-align: right;\">\n",
       "      <th></th>\n",
       "      <th>ID</th>\n",
       "      <th>Title</th>\n",
       "      <th>SpecCode</th>\n",
       "      <th>SpecDesc</th>\n",
       "      <th>State</th>\n",
       "      <th>CallAttempts</th>\n",
       "      <th>CallsSuccessful</th>\n",
       "      <th>EmailsSent</th>\n",
       "      <th>EmailsOpened</th>\n",
       "      <th>Faxes</th>\n",
       "      <th>Brand_1</th>\n",
       "      <th>Brand_2</th>\n",
       "      <th>TotalBranded</th>\n",
       "      <th>TotalMarket</th>\n",
       "    </tr>\n",
       "  </thead>\n",
       "  <tbody>\n",
       "    <tr>\n",
       "      <th>0</th>\n",
       "      <td>10000</td>\n",
       "      <td>MD</td>\n",
       "      <td>FM</td>\n",
       "      <td>FAMILY MEDICINE</td>\n",
       "      <td>SC</td>\n",
       "      <td>0</td>\n",
       "      <td>0</td>\n",
       "      <td>17</td>\n",
       "      <td>0</td>\n",
       "      <td>0</td>\n",
       "      <td>0</td>\n",
       "      <td>NaN</td>\n",
       "      <td>3.0</td>\n",
       "      <td>131</td>\n",
       "    </tr>\n",
       "    <tr>\n",
       "      <th>1</th>\n",
       "      <td>10001</td>\n",
       "      <td>MD</td>\n",
       "      <td>CD</td>\n",
       "      <td>CARDIOVASCULAR DISEASES</td>\n",
       "      <td>SC</td>\n",
       "      <td>0</td>\n",
       "      <td>0</td>\n",
       "      <td>17</td>\n",
       "      <td>0</td>\n",
       "      <td>0</td>\n",
       "      <td>0</td>\n",
       "      <td>NaN</td>\n",
       "      <td>NaN</td>\n",
       "      <td>56</td>\n",
       "    </tr>\n",
       "    <tr>\n",
       "      <th>2</th>\n",
       "      <td>10002</td>\n",
       "      <td>MD</td>\n",
       "      <td>IM</td>\n",
       "      <td>INTERNAL MEDICINE</td>\n",
       "      <td>AL</td>\n",
       "      <td>0</td>\n",
       "      <td>0</td>\n",
       "      <td>17</td>\n",
       "      <td>0</td>\n",
       "      <td>0</td>\n",
       "      <td>0</td>\n",
       "      <td>NaN</td>\n",
       "      <td>NaN</td>\n",
       "      <td>161</td>\n",
       "    </tr>\n",
       "    <tr>\n",
       "      <th>3</th>\n",
       "      <td>10003</td>\n",
       "      <td>MD</td>\n",
       "      <td>FM</td>\n",
       "      <td>FAMILY MEDICINE</td>\n",
       "      <td>AL</td>\n",
       "      <td>6</td>\n",
       "      <td>0</td>\n",
       "      <td>17</td>\n",
       "      <td>0</td>\n",
       "      <td>0</td>\n",
       "      <td>0</td>\n",
       "      <td>NaN</td>\n",
       "      <td>NaN</td>\n",
       "      <td>180</td>\n",
       "    </tr>\n",
       "    <tr>\n",
       "      <th>4</th>\n",
       "      <td>10004</td>\n",
       "      <td>MD</td>\n",
       "      <td>CD</td>\n",
       "      <td>CARDIOVASCULAR DISEASES</td>\n",
       "      <td>AL</td>\n",
       "      <td>2</td>\n",
       "      <td>0</td>\n",
       "      <td>17</td>\n",
       "      <td>0</td>\n",
       "      <td>0</td>\n",
       "      <td>0</td>\n",
       "      <td>NaN</td>\n",
       "      <td>4.0</td>\n",
       "      <td>44</td>\n",
       "    </tr>\n",
       "  </tbody>\n",
       "</table>\n",
       "</div>"
      ],
      "text/plain": [
       "      ID Title SpecCode                 SpecDesc State  CallAttempts  \\\n",
       "0  10000    MD       FM          FAMILY MEDICINE    SC             0   \n",
       "1  10001    MD       CD  CARDIOVASCULAR DISEASES    SC             0   \n",
       "2  10002    MD       IM        INTERNAL MEDICINE    AL             0   \n",
       "3  10003    MD       FM          FAMILY MEDICINE    AL             6   \n",
       "4  10004    MD       CD  CARDIOVASCULAR DISEASES    AL             2   \n",
       "\n",
       "   CallsSuccessful  EmailsSent  EmailsOpened  Faxes  Brand_1  Brand_2  \\\n",
       "0                0          17             0      0        0      NaN   \n",
       "1                0          17             0      0        0      NaN   \n",
       "2                0          17             0      0        0      NaN   \n",
       "3                0          17             0      0        0      NaN   \n",
       "4                0          17             0      0        0      NaN   \n",
       "\n",
       "   TotalBranded  TotalMarket  \n",
       "0           3.0          131  \n",
       "1           NaN           56  \n",
       "2           NaN          161  \n",
       "3           NaN          180  \n",
       "4           4.0           44  "
      ]
     },
     "execution_count": 520,
     "metadata": {},
     "output_type": "execute_result"
    }
   ],
   "source": [
    "df.head()"
   ]
  },
  {
   "cell_type": "markdown",
   "metadata": {},
   "source": [
    "'ID' column does not have any effect on our clustering. 'SpecDesc' column is simply a description of the 'SpecCode' column. So we can drop 'ID' and 'SpecDesc' columns from the DataFrame:"
   ]
  },
  {
   "cell_type": "code",
   "execution_count": 521,
   "metadata": {},
   "outputs": [],
   "source": [
    "df.drop(['ID', 'SpecDesc'], axis = 1, inplace=True)"
   ]
  },
  {
   "cell_type": "markdown",
   "metadata": {},
   "source": [
    "Take a peek at the dataset:"
   ]
  },
  {
   "cell_type": "code",
   "execution_count": 522,
   "metadata": {},
   "outputs": [
    {
     "data": {
      "text/html": [
       "<div>\n",
       "<style scoped>\n",
       "    .dataframe tbody tr th:only-of-type {\n",
       "        vertical-align: middle;\n",
       "    }\n",
       "\n",
       "    .dataframe tbody tr th {\n",
       "        vertical-align: top;\n",
       "    }\n",
       "\n",
       "    .dataframe thead th {\n",
       "        text-align: right;\n",
       "    }\n",
       "</style>\n",
       "<table border=\"1\" class=\"dataframe\">\n",
       "  <thead>\n",
       "    <tr style=\"text-align: right;\">\n",
       "      <th></th>\n",
       "      <th>Title</th>\n",
       "      <th>SpecCode</th>\n",
       "      <th>State</th>\n",
       "      <th>CallAttempts</th>\n",
       "      <th>CallsSuccessful</th>\n",
       "      <th>EmailsSent</th>\n",
       "      <th>EmailsOpened</th>\n",
       "      <th>Faxes</th>\n",
       "      <th>Brand_1</th>\n",
       "      <th>Brand_2</th>\n",
       "      <th>TotalBranded</th>\n",
       "      <th>TotalMarket</th>\n",
       "    </tr>\n",
       "  </thead>\n",
       "  <tbody>\n",
       "    <tr>\n",
       "      <th>0</th>\n",
       "      <td>MD</td>\n",
       "      <td>FM</td>\n",
       "      <td>SC</td>\n",
       "      <td>0</td>\n",
       "      <td>0</td>\n",
       "      <td>17</td>\n",
       "      <td>0</td>\n",
       "      <td>0</td>\n",
       "      <td>0</td>\n",
       "      <td>NaN</td>\n",
       "      <td>3.0</td>\n",
       "      <td>131</td>\n",
       "    </tr>\n",
       "    <tr>\n",
       "      <th>1</th>\n",
       "      <td>MD</td>\n",
       "      <td>CD</td>\n",
       "      <td>SC</td>\n",
       "      <td>0</td>\n",
       "      <td>0</td>\n",
       "      <td>17</td>\n",
       "      <td>0</td>\n",
       "      <td>0</td>\n",
       "      <td>0</td>\n",
       "      <td>NaN</td>\n",
       "      <td>NaN</td>\n",
       "      <td>56</td>\n",
       "    </tr>\n",
       "    <tr>\n",
       "      <th>2</th>\n",
       "      <td>MD</td>\n",
       "      <td>IM</td>\n",
       "      <td>AL</td>\n",
       "      <td>0</td>\n",
       "      <td>0</td>\n",
       "      <td>17</td>\n",
       "      <td>0</td>\n",
       "      <td>0</td>\n",
       "      <td>0</td>\n",
       "      <td>NaN</td>\n",
       "      <td>NaN</td>\n",
       "      <td>161</td>\n",
       "    </tr>\n",
       "    <tr>\n",
       "      <th>3</th>\n",
       "      <td>MD</td>\n",
       "      <td>FM</td>\n",
       "      <td>AL</td>\n",
       "      <td>6</td>\n",
       "      <td>0</td>\n",
       "      <td>17</td>\n",
       "      <td>0</td>\n",
       "      <td>0</td>\n",
       "      <td>0</td>\n",
       "      <td>NaN</td>\n",
       "      <td>NaN</td>\n",
       "      <td>180</td>\n",
       "    </tr>\n",
       "    <tr>\n",
       "      <th>4</th>\n",
       "      <td>MD</td>\n",
       "      <td>CD</td>\n",
       "      <td>AL</td>\n",
       "      <td>2</td>\n",
       "      <td>0</td>\n",
       "      <td>17</td>\n",
       "      <td>0</td>\n",
       "      <td>0</td>\n",
       "      <td>0</td>\n",
       "      <td>NaN</td>\n",
       "      <td>4.0</td>\n",
       "      <td>44</td>\n",
       "    </tr>\n",
       "  </tbody>\n",
       "</table>\n",
       "</div>"
      ],
      "text/plain": [
       "  Title SpecCode State  CallAttempts  CallsSuccessful  EmailsSent  \\\n",
       "0    MD       FM    SC             0                0          17   \n",
       "1    MD       CD    SC             0                0          17   \n",
       "2    MD       IM    AL             0                0          17   \n",
       "3    MD       FM    AL             6                0          17   \n",
       "4    MD       CD    AL             2                0          17   \n",
       "\n",
       "   EmailsOpened  Faxes  Brand_1  Brand_2  TotalBranded  TotalMarket  \n",
       "0             0      0        0      NaN           3.0          131  \n",
       "1             0      0        0      NaN           NaN           56  \n",
       "2             0      0        0      NaN           NaN          161  \n",
       "3             0      0        0      NaN           NaN          180  \n",
       "4             0      0        0      NaN           4.0           44  "
      ]
     },
     "execution_count": 522,
     "metadata": {},
     "output_type": "execute_result"
    }
   ],
   "source": [
    "df.head()"
   ]
  },
  {
   "cell_type": "markdown",
   "metadata": {},
   "source": [
    "Find how many rows in each column are missing values:"
   ]
  },
  {
   "cell_type": "code",
   "execution_count": 523,
   "metadata": {},
   "outputs": [
    {
     "data": {
      "text/plain": [
       "Title               6401\n",
       "SpecCode             757\n",
       "State                757\n",
       "CallAttempts           0\n",
       "CallsSuccessful        0\n",
       "EmailsSent             0\n",
       "EmailsOpened           0\n",
       "Faxes                  0\n",
       "Brand_1                0\n",
       "Brand_2            48091\n",
       "TotalBranded       42385\n",
       "TotalMarket            0\n",
       "dtype: int64"
      ]
     },
     "execution_count": 523,
     "metadata": {},
     "output_type": "execute_result"
    }
   ],
   "source": [
    "df.isna().sum()"
   ]
  },
  {
   "cell_type": "markdown",
   "metadata": {},
   "source": [
    "Populate the missing values with data as follows:"
   ]
  },
  {
   "cell_type": "code",
   "execution_count": 524,
   "metadata": {},
   "outputs": [],
   "source": [
    "df['Title'] = df['Title'].fillna('UNK')\n",
    "df['SpecCode'] = df['SpecCode'].fillna('UNK')\n",
    "df['State'] = df['State'].fillna('UN')\n",
    "df['Brand_2'] = df['Brand_2'].fillna(0)\n",
    "df['TotalBranded'] =  df['TotalBranded'].fillna(df['Brand_1'] + df['Brand_2'])"
   ]
  },
  {
   "cell_type": "markdown",
   "metadata": {},
   "source": [
    "Take a peek at the dataset:"
   ]
  },
  {
   "cell_type": "code",
   "execution_count": 525,
   "metadata": {},
   "outputs": [
    {
     "data": {
      "text/html": [
       "<div>\n",
       "<style scoped>\n",
       "    .dataframe tbody tr th:only-of-type {\n",
       "        vertical-align: middle;\n",
       "    }\n",
       "\n",
       "    .dataframe tbody tr th {\n",
       "        vertical-align: top;\n",
       "    }\n",
       "\n",
       "    .dataframe thead th {\n",
       "        text-align: right;\n",
       "    }\n",
       "</style>\n",
       "<table border=\"1\" class=\"dataframe\">\n",
       "  <thead>\n",
       "    <tr style=\"text-align: right;\">\n",
       "      <th></th>\n",
       "      <th>Title</th>\n",
       "      <th>SpecCode</th>\n",
       "      <th>State</th>\n",
       "      <th>CallAttempts</th>\n",
       "      <th>CallsSuccessful</th>\n",
       "      <th>EmailsSent</th>\n",
       "      <th>EmailsOpened</th>\n",
       "      <th>Faxes</th>\n",
       "      <th>Brand_1</th>\n",
       "      <th>Brand_2</th>\n",
       "      <th>TotalBranded</th>\n",
       "      <th>TotalMarket</th>\n",
       "    </tr>\n",
       "  </thead>\n",
       "  <tbody>\n",
       "    <tr>\n",
       "      <th>0</th>\n",
       "      <td>MD</td>\n",
       "      <td>FM</td>\n",
       "      <td>SC</td>\n",
       "      <td>0</td>\n",
       "      <td>0</td>\n",
       "      <td>17</td>\n",
       "      <td>0</td>\n",
       "      <td>0</td>\n",
       "      <td>0</td>\n",
       "      <td>0.0</td>\n",
       "      <td>3.0</td>\n",
       "      <td>131</td>\n",
       "    </tr>\n",
       "    <tr>\n",
       "      <th>1</th>\n",
       "      <td>MD</td>\n",
       "      <td>CD</td>\n",
       "      <td>SC</td>\n",
       "      <td>0</td>\n",
       "      <td>0</td>\n",
       "      <td>17</td>\n",
       "      <td>0</td>\n",
       "      <td>0</td>\n",
       "      <td>0</td>\n",
       "      <td>0.0</td>\n",
       "      <td>0.0</td>\n",
       "      <td>56</td>\n",
       "    </tr>\n",
       "    <tr>\n",
       "      <th>2</th>\n",
       "      <td>MD</td>\n",
       "      <td>IM</td>\n",
       "      <td>AL</td>\n",
       "      <td>0</td>\n",
       "      <td>0</td>\n",
       "      <td>17</td>\n",
       "      <td>0</td>\n",
       "      <td>0</td>\n",
       "      <td>0</td>\n",
       "      <td>0.0</td>\n",
       "      <td>0.0</td>\n",
       "      <td>161</td>\n",
       "    </tr>\n",
       "    <tr>\n",
       "      <th>3</th>\n",
       "      <td>MD</td>\n",
       "      <td>FM</td>\n",
       "      <td>AL</td>\n",
       "      <td>6</td>\n",
       "      <td>0</td>\n",
       "      <td>17</td>\n",
       "      <td>0</td>\n",
       "      <td>0</td>\n",
       "      <td>0</td>\n",
       "      <td>0.0</td>\n",
       "      <td>0.0</td>\n",
       "      <td>180</td>\n",
       "    </tr>\n",
       "    <tr>\n",
       "      <th>4</th>\n",
       "      <td>MD</td>\n",
       "      <td>CD</td>\n",
       "      <td>AL</td>\n",
       "      <td>2</td>\n",
       "      <td>0</td>\n",
       "      <td>17</td>\n",
       "      <td>0</td>\n",
       "      <td>0</td>\n",
       "      <td>0</td>\n",
       "      <td>0.0</td>\n",
       "      <td>4.0</td>\n",
       "      <td>44</td>\n",
       "    </tr>\n",
       "  </tbody>\n",
       "</table>\n",
       "</div>"
      ],
      "text/plain": [
       "  Title SpecCode State  CallAttempts  CallsSuccessful  EmailsSent  \\\n",
       "0    MD       FM    SC             0                0          17   \n",
       "1    MD       CD    SC             0                0          17   \n",
       "2    MD       IM    AL             0                0          17   \n",
       "3    MD       FM    AL             6                0          17   \n",
       "4    MD       CD    AL             2                0          17   \n",
       "\n",
       "   EmailsOpened  Faxes  Brand_1  Brand_2  TotalBranded  TotalMarket  \n",
       "0             0      0        0      0.0           3.0          131  \n",
       "1             0      0        0      0.0           0.0           56  \n",
       "2             0      0        0      0.0           0.0          161  \n",
       "3             0      0        0      0.0           0.0          180  \n",
       "4             0      0        0      0.0           4.0           44  "
      ]
     },
     "execution_count": 525,
     "metadata": {},
     "output_type": "execute_result"
    }
   ],
   "source": [
    "df.head()"
   ]
  },
  {
   "cell_type": "markdown",
   "metadata": {},
   "source": [
    "Verify there is no missing value."
   ]
  },
  {
   "cell_type": "code",
   "execution_count": 526,
   "metadata": {},
   "outputs": [
    {
     "data": {
      "text/plain": [
       "Title              0\n",
       "SpecCode           0\n",
       "State              0\n",
       "CallAttempts       0\n",
       "CallsSuccessful    0\n",
       "EmailsSent         0\n",
       "EmailsOpened       0\n",
       "Faxes              0\n",
       "Brand_1            0\n",
       "Brand_2            0\n",
       "TotalBranded       0\n",
       "TotalMarket        0\n",
       "dtype: int64"
      ]
     },
     "execution_count": 526,
     "metadata": {},
     "output_type": "execute_result"
    }
   ],
   "source": [
    "df.isna().sum()"
   ]
  },
  {
   "cell_type": "markdown",
   "metadata": {},
   "source": [
    "There might be rows in which the value of the 'CallAttempts' column is less than the value of 'CallsSuccessful' column. This is illogical. How many such rows exist:"
   ]
  },
  {
   "cell_type": "code",
   "execution_count": 527,
   "metadata": {
    "scrolled": true
   },
   "outputs": [
    {
     "name": "stdout",
     "output_type": "stream",
     "text": [
      "Number of rows where \"CallAttempt\" value is less than \"CallsSuccessful\" value: 0\n"
     ]
    }
   ],
   "source": [
    "arrCalls = np.where(df['CallAttempts'] < df['CallsSuccessful'])[0]\n",
    "\n",
    "print('Number of rows where \"CallAttempt\" value is less than \"CallsSuccessful\" value:', len(arrCalls))"
   ]
  },
  {
   "cell_type": "markdown",
   "metadata": {},
   "source": [
    "There might be rows in which the value of the 'EmailsSent' column is less than the value of 'EmailsOpened' column. This is illogical. How many such rows exist:"
   ]
  },
  {
   "cell_type": "code",
   "execution_count": 528,
   "metadata": {},
   "outputs": [
    {
     "name": "stdout",
     "output_type": "stream",
     "text": [
      "Number of rows where \"EmailsSent\" value is less than \"EmailsOpened\" value: 199\n"
     ]
    }
   ],
   "source": [
    "arrEmails = np.where(df['EmailsSent'] < df['EmailsOpened'])[0]\n",
    "\n",
    "print('Number of rows where \"EmailsSent\" value is less than \"EmailsOpened\" value:', len(arrEmails))"
   ]
  },
  {
   "cell_type": "markdown",
   "metadata": {},
   "source": [
    "Replace the value of 'EmailsSent' column with the value of 'EmailsOpened' column:"
   ]
  },
  {
   "cell_type": "code",
   "execution_count": 529,
   "metadata": {},
   "outputs": [],
   "source": [
    "for i in range(0, len(arrEmails)):\n",
    "        df['EmailsSent'][arrEmails[i]] = df['EmailsOpened'][arrEmails[i]]"
   ]
  },
  {
   "cell_type": "markdown",
   "metadata": {},
   "source": [
    "There might be rows in which the value of the 'TotalBranded' column is less than the sum of the values of 'Brand_1' and 'Brand_2'. This is illogical because the total sales of all branded items cannot be less than the sum of the sales of brand 1 and brand 2 alone. How many such rows exist:"
   ]
  },
  {
   "cell_type": "code",
   "execution_count": 530,
   "metadata": {},
   "outputs": [
    {
     "name": "stdout",
     "output_type": "stream",
     "text": [
      "Number of rows where \"TotalBranded\" value is less than the sum of \"Brand_1\" and \"Brand_2\" values: 1\n"
     ]
    }
   ],
   "source": [
    "diffTotalBrands = df['TotalBranded'] - (df['Brand_1'] + df['Brand_2'])\n",
    "\n",
    "arrTotalBrands = np.where(diffTotalBrands < 0)[0]\n",
    "\n",
    "print('Number of rows where \"TotalBranded\" value is less than the sum of \"Brand_1\" and \"Brand_2\" values:', len(arrTotalBrands))"
   ]
  },
  {
   "cell_type": "markdown",
   "metadata": {},
   "source": [
    "Replace the 'TotalBranded' value in such rows with the sum of 'Brand_1' and 'Brand_2':"
   ]
  },
  {
   "cell_type": "code",
   "execution_count": 531,
   "metadata": {},
   "outputs": [],
   "source": [
    "for i in range(0, len(arrTotalBrands)):\n",
    "        df['TotalBranded'][arrTotalBrands[i]] = df['Brand_1'][arrTotalBrands[i]] + df['Brand_2'][arrTotalBrands[i]]"
   ]
  },
  {
   "cell_type": "markdown",
   "metadata": {},
   "source": [
    "There might be rows in which the value of the 'TotalMarket' column is less than the value of the 'TotalBranded' column. This is illogical because the total sales of all branded and unbranded items cannot be less than the sales of the branded items. How many such rows exist:"
   ]
  },
  {
   "cell_type": "code",
   "execution_count": 532,
   "metadata": {},
   "outputs": [
    {
     "name": "stdout",
     "output_type": "stream",
     "text": [
      "Number of rows where \"TotalMarket\" value is less than the value of \"TotalBranded\" column: 618\n"
     ]
    }
   ],
   "source": [
    "diffTotalBrandMarket = df['TotalMarket'] - df['TotalBranded']\n",
    "\n",
    "arrBrandMarket = np.where(diffTotalBrandMarket < 0)[0]\n",
    "\n",
    "print('Number of rows where \"TotalMarket\" value is less than the value of \"TotalBranded\" column:', len(arrBrandMarket))"
   ]
  },
  {
   "cell_type": "markdown",
   "metadata": {},
   "source": [
    "Replace the 'TotalMarket' value in such rows with the value of 'TotalBranded':"
   ]
  },
  {
   "cell_type": "code",
   "execution_count": 533,
   "metadata": {},
   "outputs": [],
   "source": [
    "for i in range(0, len(arrBrandMarket)):\n",
    "        df['TotalMarket'][arrBrandMarket[i]] = df['TotalBranded'][arrBrandMarket[i]]"
   ]
  },
  {
   "cell_type": "markdown",
   "metadata": {},
   "source": [
    "Create a column 'OtherBrands' that says what is the total sales of brands other than Brand 1 & Brand 2:"
   ]
  },
  {
   "cell_type": "code",
   "execution_count": 534,
   "metadata": {},
   "outputs": [],
   "source": [
    "df['OtherBrands'] = df['TotalBranded'] -(df['Brand_1'] + df['Brand_2'])"
   ]
  },
  {
   "cell_type": "markdown",
   "metadata": {},
   "source": [
    "Create a column 'Unbranded' that says what is the toal sales of unbranded items:"
   ]
  },
  {
   "cell_type": "code",
   "execution_count": 535,
   "metadata": {},
   "outputs": [],
   "source": [
    "df['Unbranded'] = df['TotalMarket'] -df['TotalBranded']"
   ]
  },
  {
   "cell_type": "markdown",
   "metadata": {},
   "source": [
    "Take a peek at the dataset:"
   ]
  },
  {
   "cell_type": "code",
   "execution_count": 536,
   "metadata": {},
   "outputs": [
    {
     "data": {
      "text/html": [
       "<div>\n",
       "<style scoped>\n",
       "    .dataframe tbody tr th:only-of-type {\n",
       "        vertical-align: middle;\n",
       "    }\n",
       "\n",
       "    .dataframe tbody tr th {\n",
       "        vertical-align: top;\n",
       "    }\n",
       "\n",
       "    .dataframe thead th {\n",
       "        text-align: right;\n",
       "    }\n",
       "</style>\n",
       "<table border=\"1\" class=\"dataframe\">\n",
       "  <thead>\n",
       "    <tr style=\"text-align: right;\">\n",
       "      <th></th>\n",
       "      <th>Title</th>\n",
       "      <th>SpecCode</th>\n",
       "      <th>State</th>\n",
       "      <th>CallAttempts</th>\n",
       "      <th>CallsSuccessful</th>\n",
       "      <th>EmailsSent</th>\n",
       "      <th>EmailsOpened</th>\n",
       "      <th>Faxes</th>\n",
       "      <th>Brand_1</th>\n",
       "      <th>Brand_2</th>\n",
       "      <th>TotalBranded</th>\n",
       "      <th>TotalMarket</th>\n",
       "      <th>OtherBrands</th>\n",
       "      <th>Unbranded</th>\n",
       "    </tr>\n",
       "  </thead>\n",
       "  <tbody>\n",
       "    <tr>\n",
       "      <th>0</th>\n",
       "      <td>MD</td>\n",
       "      <td>FM</td>\n",
       "      <td>SC</td>\n",
       "      <td>0</td>\n",
       "      <td>0</td>\n",
       "      <td>17</td>\n",
       "      <td>0</td>\n",
       "      <td>0</td>\n",
       "      <td>0</td>\n",
       "      <td>0.0</td>\n",
       "      <td>3.0</td>\n",
       "      <td>131</td>\n",
       "      <td>3.0</td>\n",
       "      <td>128.0</td>\n",
       "    </tr>\n",
       "    <tr>\n",
       "      <th>1</th>\n",
       "      <td>MD</td>\n",
       "      <td>CD</td>\n",
       "      <td>SC</td>\n",
       "      <td>0</td>\n",
       "      <td>0</td>\n",
       "      <td>17</td>\n",
       "      <td>0</td>\n",
       "      <td>0</td>\n",
       "      <td>0</td>\n",
       "      <td>0.0</td>\n",
       "      <td>0.0</td>\n",
       "      <td>56</td>\n",
       "      <td>0.0</td>\n",
       "      <td>56.0</td>\n",
       "    </tr>\n",
       "    <tr>\n",
       "      <th>2</th>\n",
       "      <td>MD</td>\n",
       "      <td>IM</td>\n",
       "      <td>AL</td>\n",
       "      <td>0</td>\n",
       "      <td>0</td>\n",
       "      <td>17</td>\n",
       "      <td>0</td>\n",
       "      <td>0</td>\n",
       "      <td>0</td>\n",
       "      <td>0.0</td>\n",
       "      <td>0.0</td>\n",
       "      <td>161</td>\n",
       "      <td>0.0</td>\n",
       "      <td>161.0</td>\n",
       "    </tr>\n",
       "    <tr>\n",
       "      <th>3</th>\n",
       "      <td>MD</td>\n",
       "      <td>FM</td>\n",
       "      <td>AL</td>\n",
       "      <td>6</td>\n",
       "      <td>0</td>\n",
       "      <td>17</td>\n",
       "      <td>0</td>\n",
       "      <td>0</td>\n",
       "      <td>0</td>\n",
       "      <td>0.0</td>\n",
       "      <td>0.0</td>\n",
       "      <td>180</td>\n",
       "      <td>0.0</td>\n",
       "      <td>180.0</td>\n",
       "    </tr>\n",
       "    <tr>\n",
       "      <th>4</th>\n",
       "      <td>MD</td>\n",
       "      <td>CD</td>\n",
       "      <td>AL</td>\n",
       "      <td>2</td>\n",
       "      <td>0</td>\n",
       "      <td>17</td>\n",
       "      <td>0</td>\n",
       "      <td>0</td>\n",
       "      <td>0</td>\n",
       "      <td>0.0</td>\n",
       "      <td>4.0</td>\n",
       "      <td>44</td>\n",
       "      <td>4.0</td>\n",
       "      <td>40.0</td>\n",
       "    </tr>\n",
       "  </tbody>\n",
       "</table>\n",
       "</div>"
      ],
      "text/plain": [
       "  Title SpecCode State  CallAttempts  CallsSuccessful  EmailsSent  \\\n",
       "0    MD       FM    SC             0                0          17   \n",
       "1    MD       CD    SC             0                0          17   \n",
       "2    MD       IM    AL             0                0          17   \n",
       "3    MD       FM    AL             6                0          17   \n",
       "4    MD       CD    AL             2                0          17   \n",
       "\n",
       "   EmailsOpened  Faxes  Brand_1  Brand_2  TotalBranded  TotalMarket  \\\n",
       "0             0      0        0      0.0           3.0          131   \n",
       "1             0      0        0      0.0           0.0           56   \n",
       "2             0      0        0      0.0           0.0          161   \n",
       "3             0      0        0      0.0           0.0          180   \n",
       "4             0      0        0      0.0           4.0           44   \n",
       "\n",
       "   OtherBrands  Unbranded  \n",
       "0          3.0      128.0  \n",
       "1          0.0       56.0  \n",
       "2          0.0      161.0  \n",
       "3          0.0      180.0  \n",
       "4          4.0       40.0  "
      ]
     },
     "execution_count": 536,
     "metadata": {},
     "output_type": "execute_result"
    }
   ],
   "source": [
    "df.head()"
   ]
  },
  {
   "cell_type": "markdown",
   "metadata": {},
   "source": [
    "# Exploratory Data Analysis"
   ]
  },
  {
   "cell_type": "markdown",
   "metadata": {},
   "source": [
    "Sales data of Brand 1, Brand 2, other brands and unbranded across various titles:"
   ]
  },
  {
   "cell_type": "code",
   "execution_count": 537,
   "metadata": {},
   "outputs": [
    {
     "data": {
      "text/plain": [
       "Text(0,0.5,'Sales')"
      ]
     },
     "execution_count": 537,
     "metadata": {},
     "output_type": "execute_result"
    },
    {
     "data": {
      "image/png": "[encoded data removed]",
      "text/plain": [
       "<Figure size 1440x720 with 1 Axes>"
      ]
     },
     "metadata": {},
     "output_type": "display_data"
    }
   ],
   "source": [
    "dfTitle = df.groupby('Title').agg('sum')[['Brand_1', 'Brand_2', 'OtherBrands', 'Unbranded']]\n",
    "ax = dfTitle.plot(kind='bar', figsize=(20,10), stacked=True)\n",
    "ax.set_ylabel('Sales')"
   ]
  },
  {
   "cell_type": "markdown",
   "metadata": {},
   "source": [
    "In the plot above, the share of Brand_1, Brand_2, and Other brands is not clearly visible. So let us limit the y axis to (0, 100000) to get a better view:"
   ]
  },
  {
   "cell_type": "code",
   "execution_count": 538,
   "metadata": {},
   "outputs": [
    {
     "data": {
      "text/plain": [
       "Text(0,0.5,'Sales')"
      ]
     },
     "execution_count": 538,
     "metadata": {},
     "output_type": "execute_result"
    },
    {
     "data": {
      "image/png": "[encoded data removed]",
      "text/plain": [
       "<Figure size 1440x720 with 1 Axes>"
      ]
     },
     "metadata": {},
     "output_type": "display_data"
    }
   ],
   "source": [
    "dfTitle = df.groupby('Title').agg('sum')[['Brand_1', 'Brand_2', 'OtherBrands', 'Unbranded']]\n",
    "ax = dfTitle.plot(kind='bar', figsize=(20,10), stacked=True)\n",
    "ax.set_ylim(0, 100000)\n",
    "ax.set_ylabel('Sales')"
   ]
  },
  {
   "cell_type": "markdown",
   "metadata": {},
   "source": [
    "Sales data of Brand 1, Brand 2, other brands and unbranded across various specialties:"
   ]
  },
  {
   "cell_type": "code",
   "execution_count": 539,
   "metadata": {},
   "outputs": [
    {
     "data": {
      "text/plain": [
       "Text(0,0.5,'Sales')"
      ]
     },
     "execution_count": 539,
     "metadata": {},
     "output_type": "execute_result"
    },
    {
     "data": {
      "image/png": "[encoded data removed]",
      "text/plain": [
       "<Figure size 2160x1440 with 1 Axes>"
      ]
     },
     "metadata": {},
     "output_type": "display_data"
    }
   ],
   "source": [
    "dfSpecCode = df.groupby(['SpecCode']).agg('sum')[['Brand_1', 'Brand_2', 'OtherBrands', 'Unbranded']]\n",
    "ax = dfSpecCode.plot(kind='bar', figsize=(30,20), stacked=True)\n",
    "ax.set_ylabel('Sales')"
   ]
  },
  {
   "cell_type": "markdown",
   "metadata": {},
   "source": [
    "In the plot above, the share of Brand_1, Brand_2, and Other brands is not clearly visible. So let us limit the y axis to (0, 50000) to get a better view:"
   ]
  },
  {
   "cell_type": "code",
   "execution_count": 540,
   "metadata": {},
   "outputs": [
    {
     "data": {
      "text/plain": [
       "Text(0,0.5,'Sales')"
      ]
     },
     "execution_count": 540,
     "metadata": {},
     "output_type": "execute_result"
    },
    {
     "data": {
      "image/png": "[encoded data removed]",
      "text/plain": [
       "<Figure size 2160x1440 with 1 Axes>"
      ]
     },
     "metadata": {},
     "output_type": "display_data"
    }
   ],
   "source": [
    "dfSpecCode = df.groupby('SpecCode').agg('sum')[['Brand_1', 'Brand_2', 'OtherBrands', 'Unbranded']]\n",
    "ax = dfSpecCode.plot(kind='bar', figsize=(30,20), stacked=True)\n",
    "ax.set_ylim(0, 50000)\n",
    "ax.set_ylabel('Sales')"
   ]
  },
  {
   "cell_type": "markdown",
   "metadata": {},
   "source": [
    "Sales data of Brand 1, Brand 2, Other brands and Unbranded across various states:"
   ]
  },
  {
   "cell_type": "code",
   "execution_count": 541,
   "metadata": {},
   "outputs": [
    {
     "data": {
      "text/plain": [
       "Text(0,0.5,'Sales')"
      ]
     },
     "execution_count": 541,
     "metadata": {},
     "output_type": "execute_result"
    },
    {
     "data": {
      "image/png": "[encoded data removed]",
      "text/plain": [
       "<Figure size 2160x1440 with 1 Axes>"
      ]
     },
     "metadata": {},
     "output_type": "display_data"
    }
   ],
   "source": [
    "dfState = df.groupby(['State']).agg('sum')[['Brand_1', 'Brand_2', 'OtherBrands', 'Unbranded']]\n",
    "ax = dfState.plot(kind='bar', figsize=(30,20), stacked=True)\n",
    "ax.set_ylabel('Sales')"
   ]
  },
  {
   "cell_type": "markdown",
   "metadata": {},
   "source": [
    "In the plot above, the share of Brand_1, Brand_2, and Other brands is not clearly visible. So let us limit the y axis to (0, 10000) to get a better view:"
   ]
  },
  {
   "cell_type": "code",
   "execution_count": 542,
   "metadata": {},
   "outputs": [
    {
     "data": {
      "text/plain": [
       "Text(0,0.5,'Sales')"
      ]
     },
     "execution_count": 542,
     "metadata": {},
     "output_type": "execute_result"
    },
    {
     "data": {
      "image/png": "[encoded data removed]",
      "text/plain": [
       "<Figure size 2160x1440 with 1 Axes>"
      ]
     },
     "metadata": {},
     "output_type": "display_data"
    }
   ],
   "source": [
    "dfState = df.groupby('State').agg('sum')[['Brand_1', 'Brand_2', 'OtherBrands', 'Unbranded']]\n",
    "ax = dfState.plot(kind='bar', figsize=(30,20), stacked=True)\n",
    "ax.set_ylim(0, 10000)\n",
    "ax.set_ylabel('Sales')"
   ]
  },
  {
   "cell_type": "markdown",
   "metadata": {},
   "source": [
    "Market share of brand 1 in the market for brand 1 and brand 2 alone:"
   ]
  },
  {
   "cell_type": "code",
   "execution_count": 543,
   "metadata": {},
   "outputs": [
    {
     "data": {
      "text/plain": [
       "0.051729624797123126"
      ]
     },
     "execution_count": 543,
     "metadata": {},
     "output_type": "execute_result"
    }
   ],
   "source": [
    "sum(df['Brand_1']) / (sum(df['Brand_1']) + sum(df['Brand_2']))"
   ]
  },
  {
   "cell_type": "markdown",
   "metadata": {},
   "source": [
    "Market share of brand 2 in the market for brand 1 and brand 2 alone:"
   ]
  },
  {
   "cell_type": "code",
   "execution_count": 544,
   "metadata": {},
   "outputs": [
    {
     "data": {
      "text/plain": [
       "0.9482703752028768"
      ]
     },
     "execution_count": 544,
     "metadata": {},
     "output_type": "execute_result"
    }
   ],
   "source": [
    "sum(df['Brand_2']) / (sum(df['Brand_1']) + sum(df['Brand_2']))"
   ]
  },
  {
   "cell_type": "markdown",
   "metadata": {},
   "source": [
    "Market share of brand 1 in the whole branded market:"
   ]
  },
  {
   "cell_type": "code",
   "execution_count": 545,
   "metadata": {},
   "outputs": [
    {
     "data": {
      "text/plain": [
       "0.036827259648606094"
      ]
     },
     "execution_count": 545,
     "metadata": {},
     "output_type": "execute_result"
    }
   ],
   "source": [
    "sum(df['Brand_1']) / (sum(df['Brand_1']) + sum(df['Brand_2']) + sum(df['OtherBrands']))"
   ]
  },
  {
   "cell_type": "markdown",
   "metadata": {},
   "source": [
    "Market share of brand 2 in the whole branded market:"
   ]
  },
  {
   "cell_type": "code",
   "execution_count": 546,
   "metadata": {},
   "outputs": [
    {
     "data": {
      "text/plain": [
       "0.6750909070312765"
      ]
     },
     "execution_count": 546,
     "metadata": {},
     "output_type": "execute_result"
    }
   ],
   "source": [
    "sum(df['Brand_2']) / (sum(df['Brand_1']) + sum(df['Brand_2']) + sum(df['OtherBrands']))"
   ]
  },
  {
   "cell_type": "markdown",
   "metadata": {},
   "source": [
    "Market share of brand 1 in the whole market (branded + unbranded):"
   ]
  },
  {
   "cell_type": "code",
   "execution_count": 547,
   "metadata": {},
   "outputs": [
    {
     "data": {
      "text/plain": [
       "0.0005117370537293999"
      ]
     },
     "execution_count": 547,
     "metadata": {},
     "output_type": "execute_result"
    }
   ],
   "source": [
    "sum(df['Brand_1']) / (sum(df['Brand_1']) + sum(df['Brand_2']) + sum(df['OtherBrands']) + sum(df['Unbranded']))"
   ]
  },
  {
   "cell_type": "markdown",
   "metadata": {},
   "source": [
    "Market share of brand 2 in the whole market (branded + unbranded):"
   ]
  },
  {
   "cell_type": "code",
   "execution_count": 548,
   "metadata": {},
   "outputs": [
    {
     "data": {
      "text/plain": [
       "0.009380796590896212"
      ]
     },
     "execution_count": 548,
     "metadata": {},
     "output_type": "execute_result"
    }
   ],
   "source": [
    "sum(df['Brand_2']) / (sum(df['Brand_1']) + sum(df['Brand_2']) + sum(df['OtherBrands']) + sum(df['Unbranded']))"
   ]
  },
  {
   "cell_type": "markdown",
   "metadata": {},
   "source": [
    "Market share of branded products in the whole market (branded + unbranded):"
   ]
  },
  {
   "cell_type": "code",
   "execution_count": 549,
   "metadata": {},
   "outputs": [
    {
     "data": {
      "text/plain": [
       "0.013895605011402717"
      ]
     },
     "execution_count": 549,
     "metadata": {},
     "output_type": "execute_result"
    }
   ],
   "source": [
    "(sum(df['Brand_1']) + sum(df['Brand_2']) + sum(df['OtherBrands'])) / (sum(df['Brand_1']) + sum(df['Brand_2']) + sum(df['OtherBrands']) + sum(df['Unbranded']))"
   ]
  },
  {
   "cell_type": "markdown",
   "metadata": {},
   "source": [
    "Market share of unbranded products in the whole market (branded + unbranded):"
   ]
  },
  {
   "cell_type": "code",
   "execution_count": 550,
   "metadata": {},
   "outputs": [
    {
     "data": {
      "text/plain": [
       "0.9861043949885973"
      ]
     },
     "execution_count": 550,
     "metadata": {},
     "output_type": "execute_result"
    }
   ],
   "source": [
    "sum(df['Unbranded']) / (sum(df['Brand_1']) + sum(df['Brand_2']) + sum(df['OtherBrands']) + sum(df['Unbranded']))"
   ]
  },
  {
   "cell_type": "markdown",
   "metadata": {},
   "source": [
    "# Feature Engineering"
   ]
  },
  {
   "cell_type": "markdown",
   "metadata": {},
   "source": [
    "In the DataFrame, we now 'Brand_1', 'Brand_2', 'OtherBrands' and 'Unbranded' columns. 'TotalBranded' & 'TotalMarket' columns are now redundant. So we can drop them:"
   ]
  },
  {
   "cell_type": "code",
   "execution_count": 551,
   "metadata": {},
   "outputs": [],
   "source": [
    "df.drop(['TotalBranded', 'TotalMarket'], axis = 1, inplace=True)"
   ]
  },
  {
   "cell_type": "markdown",
   "metadata": {},
   "source": [
    "Check the datatypes of features:"
   ]
  },
  {
   "cell_type": "code",
   "execution_count": 552,
   "metadata": {},
   "outputs": [
    {
     "name": "stdout",
     "output_type": "stream",
     "text": [
      "<class 'pandas.core.frame.DataFrame'>\n",
      "RangeIndex: 84080 entries, 0 to 84079\n",
      "Data columns (total 12 columns):\n",
      "Title              84080 non-null object\n",
      "SpecCode           84080 non-null object\n",
      "State              84080 non-null object\n",
      "CallAttempts       84080 non-null int64\n",
      "CallsSuccessful    84080 non-null int64\n",
      "EmailsSent         84080 non-null int64\n",
      "EmailsOpened       84080 non-null int64\n",
      "Faxes              84080 non-null int64\n",
      "Brand_1            84080 non-null int64\n",
      "Brand_2            84080 non-null float64\n",
      "OtherBrands        84080 non-null float64\n",
      "Unbranded          84080 non-null float64\n",
      "dtypes: float64(3), int64(6), object(3)\n",
      "memory usage: 7.7+ MB\n"
     ]
    }
   ],
   "source": [
    "df.info()"
   ]
  },
  {
   "cell_type": "markdown",
   "metadata": {},
   "source": [
    "Convert non-numeric features into numeric:"
   ]
  },
  {
   "cell_type": "code",
   "execution_count": 553,
   "metadata": {},
   "outputs": [],
   "source": [
    "labelEncoder = LabelEncoder()\n",
    "labelEncoder.fit(df['Title'])\n",
    "df['Title'] = labelEncoder.transform(df['Title'])\n",
    "\n",
    "labelEncoder.fit(df['SpecCode'])\n",
    "df['SpecCode'] = labelEncoder.transform(df['SpecCode'])\n",
    "\n",
    "labelEncoder.fit(df['State'])\n",
    "df['State'] = labelEncoder.transform(df['State'])"
   ]
  },
  {
   "cell_type": "markdown",
   "metadata": {},
   "source": [
    "Check the datatypes of features:"
   ]
  },
  {
   "cell_type": "code",
   "execution_count": 554,
   "metadata": {},
   "outputs": [
    {
     "name": "stdout",
     "output_type": "stream",
     "text": [
      "<class 'pandas.core.frame.DataFrame'>\n",
      "RangeIndex: 84080 entries, 0 to 84079\n",
      "Data columns (total 12 columns):\n",
      "Title              84080 non-null int64\n",
      "SpecCode           84080 non-null int64\n",
      "State              84080 non-null int64\n",
      "CallAttempts       84080 non-null int64\n",
      "CallsSuccessful    84080 non-null int64\n",
      "EmailsSent         84080 non-null int64\n",
      "EmailsOpened       84080 non-null int64\n",
      "Faxes              84080 non-null int64\n",
      "Brand_1            84080 non-null int64\n",
      "Brand_2            84080 non-null float64\n",
      "OtherBrands        84080 non-null float64\n",
      "Unbranded          84080 non-null float64\n",
      "dtypes: float64(3), int64(9)\n",
      "memory usage: 7.7 MB\n"
     ]
    }
   ],
   "source": [
    "df.info()"
   ]
  },
  {
   "cell_type": "markdown",
   "metadata": {},
   "source": [
    "Perform MinMaxScaling on the feature set."
   ]
  },
  {
   "cell_type": "code",
   "execution_count": 555,
   "metadata": {},
   "outputs": [],
   "source": [
    "scaler = MinMaxScaler()\n",
    "df_scaled = scaler.fit_transform(df)"
   ]
  },
  {
   "cell_type": "markdown",
   "metadata": {},
   "source": [
    "# Modelling"
   ]
  },
  {
   "cell_type": "markdown",
   "metadata": {},
   "source": [
    "Cluster the dataset using k-means clustering:"
   ]
  },
  {
   "cell_type": "code",
   "execution_count": 556,
   "metadata": {},
   "outputs": [
    {
     "data": {
      "text/plain": [
       "KMeans(algorithm='auto', copy_x=True, init='k-means++', max_iter=300,\n",
       "    n_clusters=3, n_init=10, n_jobs=1, precompute_distances='auto',\n",
       "    random_state=None, tol=0.0001, verbose=0)"
      ]
     },
     "execution_count": 556,
     "metadata": {},
     "output_type": "execute_result"
    }
   ],
   "source": [
    "kmeans = KMeans(n_clusters=3)\n",
    "kmeans.fit(df_scaled)"
   ]
  },
  {
   "cell_type": "markdown",
   "metadata": {},
   "source": [
    "# Performance Evaluation of the Model"
   ]
  },
  {
   "cell_type": "markdown",
   "metadata": {},
   "source": [
    "Calculate the Silhouette score of the model."
   ]
  },
  {
   "cell_type": "code",
   "execution_count": 557,
   "metadata": {},
   "outputs": [
    {
     "name": "stdout",
     "output_type": "stream",
     "text": [
      "Silhouette score:  0.40069993999721776\n"
     ]
    }
   ],
   "source": [
    "labels = kmeans.labels_\n",
    "sil_score = silhouette_score(df_scaled, labels, sample_size=15000)\n",
    "print('Silhouette score: ', sil_score)"
   ]
  },
  {
   "cell_type": "markdown",
   "metadata": {},
   "source": [
    "# Calculate the channel affinity score"
   ]
  },
  {
   "cell_type": "markdown",
   "metadata": {},
   "source": [
    "Define softmax function:"
   ]
  },
  {
   "cell_type": "code",
   "execution_count": 558,
   "metadata": {},
   "outputs": [],
   "source": [
    "def softmax(x):\n",
    "    \"\"\"Compute softmax values for each sets of scores in x.\"\"\"\n",
    "    e_x = np.exp(x - np.max(x))\n",
    "    return e_x / e_x.sum()\n"
   ]
  },
  {
   "cell_type": "markdown",
   "metadata": {},
   "source": [
    "Define a function to perform inversing and softmaxing:"
   ]
  },
  {
   "cell_type": "code",
   "execution_count": 559,
   "metadata": {},
   "outputs": [],
   "source": [
    "def channel_affinity_score(x):\n",
    "    inverse = 1/x\n",
    "    return softmax(inverse)"
   ]
  },
  {
   "cell_type": "markdown",
   "metadata": {},
   "source": [
    "# Find the channel and the channel affinity scores for a customer"
   ]
  },
  {
   "cell_type": "markdown",
   "metadata": {},
   "source": [
    "Define a function to find the label and channel affinity scores of a data point:"
   ]
  },
  {
   "cell_type": "code",
   "execution_count": 560,
   "metadata": {},
   "outputs": [],
   "source": [
    "def label_affinity(x):\n",
    "    cluster_label = {0:'call', 1:'email', 2: 'fax'}\n",
    "    clus = kmeans.predict(x)\n",
    "    label = cluster_label[clus[0]]\n",
    "    \n",
    "    distance = kmeans.transform(x)\n",
    "    affinity = channel_affinity_score(distance)\n",
    "    return label, affinity[0]\n"
   ]
  },
  {
   "cell_type": "markdown",
   "metadata": {},
   "source": [
    "Find the recommended marketing channel and the channel affinity scores of a random data point from the dataset: "
   ]
  },
  {
   "cell_type": "code",
   "execution_count": 561,
   "metadata": {},
   "outputs": [
    {
     "name": "stdout",
     "output_type": "stream",
     "text": [
      "email [0.02597481 0.82969686 0.14432833]\n"
     ]
    }
   ],
   "source": [
    "datapoint = df_scaled[22832]\n",
    "dpReshaped = datapoint.reshape(1, -1)\n",
    "label, affinity = label_affinity(dpReshaped)\n",
    "print(label, affinity)"
   ]
  }
 ],
 "metadata": {
  "kernelspec": {
   "display_name": "Python 3",
   "language": "python",
   "name": "python3"
  },
  "language_info": {
   "codemirror_mode": {
    "name": "ipython",
    "version": 3
   },
   "file_extension": ".py",
   "mimetype": "text/x-python",
   "name": "python",
   "nbconvert_exporter": "python",
   "pygments_lexer": "ipython3",
   "version": "3.6.5"
  }
 },
 "nbformat": 4,
 "nbformat_minor": 2
}
